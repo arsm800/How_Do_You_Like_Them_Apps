{
 "cells": [
  {
   "cell_type": "markdown",
   "metadata": {},
   "source": [
    "# Retirement Planner\n",
    "\n",
    "---\n",
    "\n",
    "## Environment Setup"
   ]
  },
  {
   "cell_type": "code",
   "execution_count": 1,
   "metadata": {},
   "outputs": [],
   "source": [
    "# Import libraries and dependencies\n",
    "import numpy as np\n",
    "import pandas as pd\n",
    "import os\n",
    "from datetime import datetime, timedelta\n",
    "import matplotlib.pyplot as plt\n",
    "import alpaca_trade_api as tradeapi\n",
    "%matplotlib inline"
   ]
  },
  {
   "cell_type": "code",
   "execution_count": 2,
   "metadata": {},
   "outputs": [],
   "source": [
    "# Set the random seed for results reproducibility (for testing purposes only)\n",
    "np.random.seed(42)"
   ]
  },
  {
   "cell_type": "markdown",
   "metadata": {},
   "source": [
    "---\n",
    "\n",
    "## Portfolio Planner\n",
    "\n",
    "In this activity, you will use the Alpaca API to grab historical data for a `60/40` portfolio using `SPY` to represent the stock portion and `AGG` to represent the bonds."
   ]
  },
  {
   "cell_type": "code",
   "execution_count": 24,
   "metadata": {},
   "outputs": [],
   "source": [
    "# Load .env enviroment variables\n",
    "from dotenv import load_dotenv\n",
    "load_dotenv()\n",
    "\n",
    "# Set Alpaca API key and secret\n",
    "alpaca_api_key = os.getenv(\"ALPACA_API_KEY\")\n",
    "alpaca_secret_key = os.getenv(\"ALPACA_SECRET_KEY\")\n",
    "\n",
    "# Create the Alpaca API object\n",
    "api = tradeapi.REST(\n",
    "    alpaca_api_key,\n",
    "    alpaca_secret_key,\n",
    "    api_version=\"v2\")"
   ]
  },
  {
   "cell_type": "markdown",
   "metadata": {},
   "source": [
    "# Data Collection\n",
    "\n",
    "In this step, you will need to use the Alpaca api to fetch closing prices for the `SPY` and `AGG` tickers. Save the results as a pandas DataFrame"
   ]
  },
  {
   "cell_type": "code",
   "execution_count": 25,
   "metadata": {},
   "outputs": [],
   "source": [
    "# Subset your tickers, then pull returns data:\n",
    "# Set the ticker\n",
    "ticker = [\"SPY\", \"AGG\"]\n",
    "\n",
    "# Set timeframe to '1D'\n",
    "timeframe = \"1D\"\n",
    "\n",
    "# Set start and end datetimes of 1 year, between now and 365 days ago.\n",
    "start_date = pd.Timestamp('2019-07-28', tz='America/New_York').isoformat()\n",
    "end_date = pd.Timestamp('2020-07-27', tz='America/New_York').isoformat()\n",
    "\n",
    "# Get 1 year's worth of historical data for SPY and AGG\n",
    "df = api.get_barset(\n",
    "    ticker,\n",
    "    timeframe,\n",
    "    limit=None,\n",
    "    start=start_date,\n",
    "    end=end_date,\n",
    "    after=None,\n",
    "    until=None,\n",
    ").df\n",
    "\n",
    "# Drop unnecessary columns\n",
    "df = df.drop(\n",
    "    columns=['open', 'high', 'low', 'volume'],\n",
    "    level=1\n",
    ")"
   ]
  },
  {
   "cell_type": "code",
   "execution_count": 26,
   "metadata": {},
   "outputs": [
    {
     "data": {
      "text/html": [
       "<div>\n",
       "<style scoped>\n",
       "    .dataframe tbody tr th:only-of-type {\n",
       "        vertical-align: middle;\n",
       "    }\n",
       "\n",
       "    .dataframe tbody tr th {\n",
       "        vertical-align: top;\n",
       "    }\n",
       "\n",
       "    .dataframe thead tr th {\n",
       "        text-align: left;\n",
       "    }\n",
       "\n",
       "    .dataframe thead tr:last-of-type th {\n",
       "        text-align: right;\n",
       "    }\n",
       "</style>\n",
       "<table border=\"1\" class=\"dataframe\">\n",
       "  <thead>\n",
       "    <tr>\n",
       "      <th></th>\n",
       "      <th>AGG</th>\n",
       "      <th>SPY</th>\n",
       "    </tr>\n",
       "    <tr>\n",
       "      <th></th>\n",
       "      <th>close</th>\n",
       "      <th>close</th>\n",
       "    </tr>\n",
       "    <tr>\n",
       "      <th>time</th>\n",
       "      <th></th>\n",
       "      <th></th>\n",
       "    </tr>\n",
       "  </thead>\n",
       "  <tbody>\n",
       "    <tr>\n",
       "      <th>2019-07-29 00:00:00-04:00</th>\n",
       "      <td>111.2400</td>\n",
       "      <td>301.48</td>\n",
       "    </tr>\n",
       "    <tr>\n",
       "      <th>2019-07-30 00:00:00-04:00</th>\n",
       "      <td>111.2600</td>\n",
       "      <td>300.82</td>\n",
       "    </tr>\n",
       "    <tr>\n",
       "      <th>2019-07-31 00:00:00-04:00</th>\n",
       "      <td>111.3000</td>\n",
       "      <td>297.40</td>\n",
       "    </tr>\n",
       "    <tr>\n",
       "      <th>2019-08-01 00:00:00-04:00</th>\n",
       "      <td>111.9095</td>\n",
       "      <td>294.88</td>\n",
       "    </tr>\n",
       "    <tr>\n",
       "      <th>2019-08-02 00:00:00-04:00</th>\n",
       "      <td>111.9600</td>\n",
       "      <td>292.76</td>\n",
       "    </tr>\n",
       "  </tbody>\n",
       "</table>\n",
       "</div>"
      ],
      "text/plain": [
       "                                AGG     SPY\n",
       "                              close   close\n",
       "time                                       \n",
       "2019-07-29 00:00:00-04:00  111.2400  301.48\n",
       "2019-07-30 00:00:00-04:00  111.2600  300.82\n",
       "2019-07-31 00:00:00-04:00  111.3000  297.40\n",
       "2019-08-01 00:00:00-04:00  111.9095  294.88\n",
       "2019-08-02 00:00:00-04:00  111.9600  292.76"
      ]
     },
     "execution_count": 26,
     "metadata": {},
     "output_type": "execute_result"
    }
   ],
   "source": [
    "# Display sample data\n",
    "df.head()"
   ]
  },
  {
   "cell_type": "markdown",
   "metadata": {},
   "source": [
    "---\n",
    "\n",
    "## Monte Carlo Simulation\n",
    "\n",
    "In this step, you will run Monte Carlo Simulations for your portfolio to model portfolio performance at different retirement ages. \n",
    "\n",
    "Complete the following steps:\n",
    "\n",
    "1. Calculate the daily returns for the SPY and AGG closing prices.\n",
    "\n",
    "2. Calculate volatility for both the SPY and AGG closing prices.\n",
    "\n",
    "3. Find the last day's closing price for both stocks and save those as variables\n",
    "\n",
    "4. Run a Monte Carlo Simulation of at least `100` iterations and generate at least `30` years of closing prices\n",
    "\n",
    "**Hint:** There are `252` trading days per year, so the number of records to generate for each Monte Carlo run will be `252 days * 30 years`."
   ]
  },
  {
   "cell_type": "code",
   "execution_count": 31,
   "metadata": {},
   "outputs": [
    {
     "data": {
      "text/html": [
       "<div>\n",
       "<style scoped>\n",
       "    .dataframe tbody tr th:only-of-type {\n",
       "        vertical-align: middle;\n",
       "    }\n",
       "\n",
       "    .dataframe tbody tr th {\n",
       "        vertical-align: top;\n",
       "    }\n",
       "\n",
       "    .dataframe thead tr th {\n",
       "        text-align: left;\n",
       "    }\n",
       "\n",
       "    .dataframe thead tr:last-of-type th {\n",
       "        text-align: right;\n",
       "    }\n",
       "</style>\n",
       "<table border=\"1\" class=\"dataframe\">\n",
       "  <thead>\n",
       "    <tr>\n",
       "      <th></th>\n",
       "      <th>AGG</th>\n",
       "      <th>SPY</th>\n",
       "    </tr>\n",
       "    <tr>\n",
       "      <th></th>\n",
       "      <th>close</th>\n",
       "      <th>close</th>\n",
       "    </tr>\n",
       "    <tr>\n",
       "      <th>time</th>\n",
       "      <th></th>\n",
       "      <th></th>\n",
       "    </tr>\n",
       "  </thead>\n",
       "  <tbody>\n",
       "    <tr>\n",
       "      <th>2019-07-30 00:00:00-04:00</th>\n",
       "      <td>0.000180</td>\n",
       "      <td>-0.002189</td>\n",
       "    </tr>\n",
       "    <tr>\n",
       "      <th>2019-07-31 00:00:00-04:00</th>\n",
       "      <td>0.000360</td>\n",
       "      <td>-0.011369</td>\n",
       "    </tr>\n",
       "    <tr>\n",
       "      <th>2019-08-01 00:00:00-04:00</th>\n",
       "      <td>0.005476</td>\n",
       "      <td>-0.008473</td>\n",
       "    </tr>\n",
       "    <tr>\n",
       "      <th>2019-08-02 00:00:00-04:00</th>\n",
       "      <td>0.000451</td>\n",
       "      <td>-0.007189</td>\n",
       "    </tr>\n",
       "    <tr>\n",
       "      <th>2019-08-05 00:00:00-04:00</th>\n",
       "      <td>0.004466</td>\n",
       "      <td>-0.029785</td>\n",
       "    </tr>\n",
       "  </tbody>\n",
       "</table>\n",
       "</div>"
      ],
      "text/plain": [
       "                                AGG       SPY\n",
       "                              close     close\n",
       "time                                         \n",
       "2019-07-30 00:00:00-04:00  0.000180 -0.002189\n",
       "2019-07-31 00:00:00-04:00  0.000360 -0.011369\n",
       "2019-08-01 00:00:00-04:00  0.005476 -0.008473\n",
       "2019-08-02 00:00:00-04:00  0.000451 -0.007189\n",
       "2019-08-05 00:00:00-04:00  0.004466 -0.029785"
      ]
     },
     "execution_count": 31,
     "metadata": {},
     "output_type": "execute_result"
    }
   ],
   "source": [
    "# Calculate the daily roi for the stocks\n",
    "daily_returns = df.pct_change()\n",
    "daily_returns.isnull().sum()\n",
    "daily_returns.dropna(inplace=True)\n",
    "\n",
    "# Display sample data\n",
    "daily_returns.head()"
   ]
  },
  {
   "cell_type": "code",
   "execution_count": 39,
   "metadata": {},
   "outputs": [
    {
     "name": "stdout",
     "output_type": "stream",
     "text": [
      "0.00029037738165616563\n",
      "0.0005023482629464678\n",
      "0.005581445203409121\n",
      "0.021174578054993454\n"
     ]
    }
   ],
   "source": [
    "# Compute daily volatility\n",
    "\n",
    "    # Average Daily Return\n",
    "avg_daily_return_agg = daily_returns['AGG']['close'].mean()\n",
    "avg_daily_return_spy = daily_returns['SPY']['close'].mean()\n",
    "\n",
    "print(avg_daily_return_agg)\n",
    "print(avg_daily_return_spy)\n",
    "\n",
    "    # Standard Deviation\n",
    "stdev_daily_return_agg = daily_returns['AGG']['close'].std()\n",
    "stdev_daily_return_spy = daily_returns['SPY']['close'].std()\n",
    "\n",
    "print(stdev_daily_return_agg)\n",
    "print(stdev_daily_return_spy)"
   ]
  },
  {
   "cell_type": "code",
   "execution_count": 43,
   "metadata": {},
   "outputs": [
    {
     "name": "stdout",
     "output_type": "stream",
     "text": [
      "119.18\n",
      "323.18\n"
     ]
    }
   ],
   "source": [
    "# Save the last day's closing price\n",
    "\n",
    "agg_last_price = df['AGG']['close'][-1]\n",
    "spy_last_price = df['SPY']['close'][-1]\n",
    "\n",
    "print(agg_last_price)\n",
    "print(spy_last_price)"
   ]
  },
  {
   "cell_type": "code",
   "execution_count": 49,
   "metadata": {},
   "outputs": [],
   "source": [
    "# Setup the Monte Carlo Parameters\n",
    "number_simulations = 500\n",
    "number_records = 252 * 30\n",
    "monte_carlo = pd.DataFrame()"
   ]
  },
  {
   "cell_type": "code",
   "execution_count": 51,
   "metadata": {},
   "outputs": [
    {
     "data": {
      "text/plain": [
       "Sim0      float64\n",
       "Sim1      float64\n",
       "Sim2      float64\n",
       "Sim3      float64\n",
       "Sim4      float64\n",
       "Sim5      float64\n",
       "Sim6      float64\n",
       "Sim7      float64\n",
       "Sim8      float64\n",
       "Sim9      float64\n",
       "Sim10     float64\n",
       "Sim11     float64\n",
       "Sim12     float64\n",
       "Sim13     float64\n",
       "Sim14     float64\n",
       "Sim15     float64\n",
       "Sim16     float64\n",
       "Sim17     float64\n",
       "Sim18     float64\n",
       "Sim19     float64\n",
       "Sim20     float64\n",
       "Sim21     float64\n",
       "Sim22     float64\n",
       "Sim23     float64\n",
       "Sim24     float64\n",
       "Sim25     float64\n",
       "Sim26     float64\n",
       "Sim27     float64\n",
       "Sim28     float64\n",
       "Sim29     float64\n",
       "           ...   \n",
       "Sim471    float64\n",
       "Sim472    float64\n",
       "Sim473    float64\n",
       "Sim474    float64\n",
       "Sim475    float64\n",
       "Sim476    float64\n",
       "Sim477    float64\n",
       "Sim478    float64\n",
       "Sim479    float64\n",
       "Sim480    float64\n",
       "Sim481    float64\n",
       "Sim482    float64\n",
       "Sim483    float64\n",
       "Sim484    float64\n",
       "Sim485    float64\n",
       "Sim486    float64\n",
       "Sim487    float64\n",
       "Sim488    float64\n",
       "Sim489    float64\n",
       "Sim490    float64\n",
       "Sim491    float64\n",
       "Sim492    float64\n",
       "Sim493    float64\n",
       "Sim494    float64\n",
       "Sim495    float64\n",
       "Sim496    float64\n",
       "Sim497    float64\n",
       "Sim498    float64\n",
       "Sim499    float64\n",
       "Sim500    float64\n",
       "Length: 501, dtype: object"
      ]
     },
     "execution_count": 51,
     "metadata": {},
     "output_type": "execute_result"
    }
   ],
   "source": [
    "# Run the Monte Carlo Simulation\n",
    "\n",
    "# Initialize empty DataFrame to hold simulated prices for each simulation\n",
    "simulated_prices = pd.DataFrame()\n",
    "\n",
    "# Each Simulation\n",
    "for s in range(number_simulations):\n",
    "    \n",
    "    # Initialize simulated prices\n",
    "    sim_agg_prices = [agg_last_price]\n",
    "    sim_spy_prices = [spy_last_price]\n",
    "    \n",
    "    # Each Trading Day\n",
    "    for d in range(number_records):\n",
    "        \n",
    "        # Calculate the simulated price using the last price within the list\n",
    "        sim_agg_price = sim_agg_prices[-1] * (1 + np.random.normal(avg_daily_return_agg, stdev_daily_return_agg))\n",
    "        sim_spy_price = sim_spy_prices[-1] * (1 + np.random.normal(avg_daily_return_spy, stdev_daily_return_spy))\n",
    "        \n",
    "        # Append the simulated price to the list\n",
    "        sim_agg_prices.append(sim_agg_price)\n",
    "        sim_spy_prices.append(sim_agg_price)\n",
    "        \n",
    "    # Append the simulated prices of each simulation to DataFrame\n",
    "    simulated_prices[\"AGG prices\"] = pd.Series(sim_agg_prices)\n",
    "    simulated_prices[\"SPY prices\"] = pd.Series(sim_spy_prices)\n",
    "    \n",
    "    # Calculate the daily returns of simulated prices\n",
    "    simulated_daily_returns = simulated_prices.pct_change()\n",
    "    \n",
    "    # Set the portfolio weights (40% bonds AGG; 60% stocks SPY)\n",
    "    weights = [0.40, 0.60]\n",
    "    \n",
    "    # Multiply weights to each columns' daily returns\n",
    "    portfolio_daily_returns = simulated_daily_returns.dot(weights)\n",
    "    \n",
    "    # Calculate cumulative return, not just daily change\n",
    "    monte_carlo[f'Sim{s+1}'] = (1 + portfolio_daily_returns.fillna(0).cumprod()) \n",
    "    \n",
    "# Print DataFrame results\n",
    "monte_carlo.head()\n",
    "\n",
    "monte_carlo.dtypes\n",
    "\n",
    "    \n",
    "    \n"
   ]
  },
  {
   "cell_type": "code",
   "execution_count": 11,
   "metadata": {},
   "outputs": [],
   "source": [
    "# Check that the simulation ran successfully\n"
   ]
  },
  {
   "cell_type": "code",
   "execution_count": 12,
   "metadata": {},
   "outputs": [],
   "source": [
    "# Visualize the Simulation\n"
   ]
  },
  {
   "cell_type": "code",
   "execution_count": 13,
   "metadata": {},
   "outputs": [],
   "source": [
    "# Select the last row for the cumulative returns (cumulative returns at 20 years)\n"
   ]
  },
  {
   "cell_type": "code",
   "execution_count": 14,
   "metadata": {},
   "outputs": [],
   "source": [
    "# Select the last row for the cumulative returns (cumulative returns at 20 years)\n"
   ]
  },
  {
   "cell_type": "code",
   "execution_count": 15,
   "metadata": {},
   "outputs": [],
   "source": [
    "# Display the 90% confidence interval for the ending returns\n"
   ]
  },
  {
   "cell_type": "code",
   "execution_count": 16,
   "metadata": {},
   "outputs": [],
   "source": [
    "# Visualize the distribution of the ending returns\n"
   ]
  },
  {
   "cell_type": "markdown",
   "metadata": {},
   "source": [
    "---"
   ]
  },
  {
   "cell_type": "markdown",
   "metadata": {},
   "source": [
    "## Retirement Analysis\n",
    "\n",
    "In this section, you will use the monte carlo model to answer the following retirement planning questions:\n",
    "\n",
    "1. What are the expected cumulative returns at `30` years for the `10th`, `50th`, and `90th` percentiles?\n",
    "\n",
    "2. Given an initial investment of `$20,000`, what is the expected return in dollars at the `10th`, `50th`, and `90th` percentiles?\n",
    "\n",
    "3. Given the current projected annual income from the Plaid analysis, will a `4%` withdrawal rate meet or exceed that value at the `10th` percentile? Note: This is basically determining if retirement income is equivalent to current income.\n",
    "\n",
    "4. How would a `50%` increase in the initial investment amount affect the `4%` retirement withdrawal? In other words, what happens if the initial investment had been bigger?"
   ]
  },
  {
   "cell_type": "markdown",
   "metadata": {},
   "source": [
    "### What are the expected cumulative returns at 30 years for the 10th, 50th, and 90th percentiles?"
   ]
  },
  {
   "cell_type": "code",
   "execution_count": 17,
   "metadata": {},
   "outputs": [],
   "source": [
    "# Compute cumulative returns\n"
   ]
  },
  {
   "cell_type": "markdown",
   "metadata": {},
   "source": [
    "### Given an initial investment of `$20,000`, what is the expected portfolio return in dollars at the 10th, 50th, and 90th percentiles?"
   ]
  },
  {
   "cell_type": "code",
   "execution_count": 18,
   "metadata": {},
   "outputs": [],
   "source": [
    "# Set initial investment\n",
    "\n",
    "# Compute expected portfolio return\n"
   ]
  },
  {
   "cell_type": "markdown",
   "metadata": {},
   "source": [
    "### Given the current projected annual income from the Plaid analysis, will a 4% withdraw rate from the retirement portfolio meet or exceed that value at the 10th percentile?\n",
    "\n",
    "Note: This is effectively saying that 90% of the expected returns will be greater than the return at the 10th percentile, so this can help measure the uncertainty about having enough funds at retirement"
   ]
  },
  {
   "cell_type": "code",
   "execution_count": 19,
   "metadata": {},
   "outputs": [],
   "source": [
    "# Set Plaid's projected income\n",
    "\n",
    "# Calculate the 4% withdrawal for the ending return as retirement income\n",
    "\n",
    "# Determine if the retirement income meets or exceeds the current projected income\n"
   ]
  },
  {
   "cell_type": "markdown",
   "metadata": {},
   "source": [
    "### How would a 50% increase in the initial investment amount affect the 4% retirement withdrawal?"
   ]
  },
  {
   "cell_type": "code",
   "execution_count": 20,
   "metadata": {},
   "outputs": [],
   "source": [
    "# Re-calculate the retirement income with a 50% increase in the initial investment amount\n"
   ]
  },
  {
   "cell_type": "markdown",
   "metadata": {},
   "source": [
    "### Optional Challenge\n",
    "\n",
    "Use the Monte Carlo data and calculate the cumulative returns at the `5%`, `50%`, and `95%` quartiles and plot this data as a line chart to see how the cumulative returns change over the life of the investment.\n",
    "\n",
    "In this section, you need to calculate and plot the cumulative returns for the median and `90%` confidence intervals. This plot shows the expected cumulative returns for any given day between the first day and the last day of investment. "
   ]
  },
  {
   "cell_type": "code",
   "execution_count": 21,
   "metadata": {},
   "outputs": [],
   "source": [
    "# Compute projected returns\n",
    "\n",
    "# Display sample data\n"
   ]
  },
  {
   "cell_type": "code",
   "execution_count": 22,
   "metadata": {},
   "outputs": [],
   "source": [
    "# Plot the cumulative returns over time\n"
   ]
  },
  {
   "cell_type": "code",
   "execution_count": 23,
   "metadata": {},
   "outputs": [],
   "source": [
    "# Compute portfolio performance over time\n",
    "\n",
    "# Plot projected performance over time\n"
   ]
  }
 ],
 "metadata": {
  "kernelspec": {
   "display_name": "Python 3",
   "language": "python",
   "name": "python3"
  },
  "language_info": {
   "codemirror_mode": {
    "name": "ipython",
    "version": 3
   },
   "file_extension": ".py",
   "mimetype": "text/x-python",
   "name": "python",
   "nbconvert_exporter": "python",
   "pygments_lexer": "ipython3",
   "version": "3.7.7"
  }
 },
 "nbformat": 4,
 "nbformat_minor": 4
}
